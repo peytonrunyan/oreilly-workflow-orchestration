{
 "cells": [
  {
   "cell_type": "markdown",
   "metadata": {},
   "source": [
    "# ***demo pipeline***  - putting it all together in a real world use case\n",
    "\n",
    "![logos](logos.png)\n",
    "\n",
    "Let's take some of the concepts we just explored and build an end-to-end data pipeline, from raw source data to reporting-ready tables in a data warehouse."
   ]
  },
  {
   "cell_type": "markdown",
   "metadata": {},
   "source": [
    "## What's our stack?\n",
    "- [**Prefect**](https://www.prefect.io): our orchestrator\n",
    "- [**Airbyte**](https://www.airbyte.com): our data integration tool (move data from A to B)\n",
    "- [**DBT**](https://www.getdbt.com/): our transform tool (build clean tables from raw source data)\n",
    "- [**Snowflake**](https://signup.snowflake.com): our data warehouse"
   ]
  },
  {
   "cell_type": "markdown",
   "metadata": {},
   "source": [
    "## What will our data pipeline do?\n",
    "\n",
    "- Trigger a sync of the raw source data to our warehouse via Airbyte\n",
    "\n",
    "- Run a DBT model to build a Snowflake table from that raw source data\n",
    "\n",
    "- Provide visibility into any failures that occur in this process"
   ]
  },
  {
   "cell_type": "markdown",
   "metadata": {},
   "source": [
    "# Setup"
   ]
  },
  {
   "cell_type": "markdown",
   "metadata": {},
   "source": [
    "### Airbyte\n",
    "\n",
    "- [Get your own instance](https://docs.airbyte.com/quickstart/deploy-airbyte)\n",
    "\n",
    "- Make sure your instance is an accessible network space (I'm using an AWS EC2 instance and port-forwarding the SSH connection to my `localhost:8000`)"
   ]
  },
  {
   "cell_type": "markdown",
   "metadata": {},
   "source": [
    "### Snowflake\n",
    "\n",
    "- [get your own instance](https://signup.snowflake.com)\n"
   ]
  },
  {
   "cell_type": "markdown",
   "metadata": {},
   "source": [
    "### DBT\n",
    "\n",
    "- [Download the CLI](https://docs.getdbt.com/dbt-cli/install/overview)\n",
    "\n",
    "- [Set up your local profile](https://docs.getdbt.com/dbt-cli/configure-your-profile) to connect to your snowflake instance"
   ]
  }
 ],
 "metadata": {
  "language_info": {
   "name": "python"
  },
  "orig_nbformat": 4
 },
 "nbformat": 4,
 "nbformat_minor": 2
}
