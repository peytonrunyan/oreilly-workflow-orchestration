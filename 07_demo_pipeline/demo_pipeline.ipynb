{
 "cells": [
  {
   "cell_type": "markdown",
   "metadata": {},
   "source": [
    "# Putting it all together\n",
    "\n",
    "![logos](logos.png)\n",
    "\n",
    "Let's take some of the concepts we just explored and build an end-to-end data pipeline, from raw source data to reporting-ready tables in a data warehouse.\n",
    "\n",
    "## What's our stack?\n",
    "- [**Prefect**](https://www.prefect.io): our orchestrator\n",
    "- [**Airbyte**](https://www.airbyte.com): our data integration tool (move data from A to B)\n",
    "- [**DBT**](https://www.getdbt.com/): our transform tool (build clean tables from raw source data)\n",
    "- [**Snowflake**](https://signup.snowflake.com): our data warehouse\n",
    "\n",
    "## What will our data pipeline do?\n",
    "- Trigger a sync of the raw source data to our warehouse via Airbyte\n",
    "- Run a DBT model to build a Snowflake table from that raw source data\n",
    "- Provide visibility into any failures that occur in this process"
   ]
  }
 ],
 "metadata": {
  "language_info": {
   "name": "python"
  },
  "orig_nbformat": 4
 },
 "nbformat": 4,
 "nbformat_minor": 2
}
