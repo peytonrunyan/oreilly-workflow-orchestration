{
 "cells": [
  {
   "cell_type": "code",
   "execution_count": null,
   "metadata": {},
   "outputs": [],
   "source": [
    "from prefect import flow, task\n",
    "from prefect.task_runners import DaskTaskRunner\n",
    "from typing import List\n",
    "import httpx\n",
    "\n",
    "@task(retries=3)\n",
    "def get_stars(repo: str):\n",
    "    url = f\"https://api.github.com/repos/{repo}\"\n",
    "    count = httpx.get(url).json()[\"stargazers_count\"]\n",
    "    print(f\"{repo} has {count} stars!\")\n",
    "\n",
    "@flow(name=\"Github Stars\", task_runner=DaskTaskRunner())\n",
    "def github_stars(repos: List[str]):\n",
    "    for repo in repos:\n",
    "        get_stars(repo)\n",
    "\n",
    "@flow(name=\"Github Stats\")\n",
    "def github_stats():\n",
    "    github_stars([\"PrefectHQ/Prefect\", \"PrefectHQ/miter-design\"])\n",
    "\n",
    "# run the flow!\n",
    "if __name__ == \"__main__\":\n",
    "    github_stars()"
   ]
  }
 ],
 "metadata": {
  "language_info": {
   "name": "python"
  },
  "orig_nbformat": 4
 },
 "nbformat": 4,
 "nbformat_minor": 2
}
