{
 "cells": [
  {
   "cell_type": "markdown",
   "metadata": {},
   "source": [
    "## ***beyond the DAG*** - patterns in more complicated workflows\n",
    "\n",
    "### Concepts\n",
    "- **Flow of Flows**: parent orchestrator patterns and subflows\n",
    "\n",
    "- **Breaking the DAG**: changing the control flow on the fly"
   ]
  },
  {
   "cell_type": "markdown",
   "metadata": {},
   "source": [
    "## Extending the `nike_flow` from earlier\n",
    "Now imagine we have many URLs pointing to different Nike shoes that we like. We can create an instance of our `nike_flow` for each `url`, which wrapped in a new function we call `parent_flow`:\n",
    "\n",
    "```python\n",
    "@flow\n",
    "def parent_flow(urls: List[str], budget: int) -> None:\n",
    "    for url in urls:\n",
    "        nike_flow(url, budget)\n",
    "```\n",
    "\n",
    "In Prefect language, this is what we call a [subflow](https://orion-docs.prefect.io/concepts/flows/#subflows) pattern. Using such a pattern, we can dynamically change the execution of the `parent_flow` based on the results we get from each `nike_flow` instance (subflow) ***during runtime***. This what we mean by *\"breaking the DAG\"* since representing workflows as DAGs requires knowing the execution plan ***before runtime***.\n",
    "\n"
   ]
  },
  {
   "cell_type": "markdown",
   "metadata": {},
   "source": [
    "## The updated workflow"
   ]
  },
  {
   "cell_type": "code",
   "execution_count": null,
   "metadata": {},
   "outputs": [],
   "source": [
    "from bs4 import BeautifulSoup\n",
    "from prefect import flow, task\n",
    "from typing import List\n",
    "import requests\n",
    "import re"
   ]
  },
  {
   "cell_type": "code",
   "execution_count": null,
   "metadata": {},
   "outputs": [],
   "source": [
    "@task(retries=3, retry_delay_seconds=10)\n",
    "def find_nike_price(url: str) -> int:\n",
    "    k = requests.get(url).text\n",
    "    soup = BeautifulSoup(k,'html.parser')\n",
    "    price_string = soup.find('div', {\"class\":\"product-price\"}).text.replace(' ','')\n",
    "    price = re.search('[0-9]+', price_string).group(0)\n",
    "    return int(price)"
   ]
  },
  {
   "cell_type": "code",
   "execution_count": null,
   "metadata": {},
   "outputs": [],
   "source": [
    "@task\n",
    "def inBudget(price: int, budget: int) -> bool:\n",
    "    return price <= budget"
   ]
  },
  {
   "cell_type": "code",
   "execution_count": null,
   "metadata": {},
   "outputs": [],
   "source": [
    "@task\n",
    "def save(url: str, to: str = 'shoes_in_my_budget.md') -> None:\n",
    "    with open(to, 'w') as f:\n",
    "        link = f\"[{url.split('/t/')[-1]}]({url})\\n\\n\"\n",
    "        f.write(link)"
   ]
  },
  {
   "cell_type": "code",
   "execution_count": null,
   "metadata": {},
   "outputs": [],
   "source": [
    "@flow\n",
    "def nike_flow(url: str, budget: int) -> None:\n",
    "    price = find_nike_price(url)\n",
    "    \n",
    "    if inBudget(price, budget).result():\n",
    "        save(url)"
   ]
  },
  {
   "cell_type": "code",
   "execution_count": null,
   "metadata": {},
   "outputs": [],
   "source": [
    "@flow\n",
    "def parent_flow(urls: List[str], budget: int) -> None:\n",
    "    for url in urls:\n",
    "        nike_flow(url, budget)"
   ]
  },
  {
   "cell_type": "code",
   "execution_count": null,
   "metadata": {},
   "outputs": [],
   "source": [
    "urls = [\n",
    "    \"https://www.nike.com/t/air-max-270-womens-shoes-Pgb94t/AH6789-601\",\n",
    "    \"https://www.nike.com/t/air-max-terrascape-90-mens-shoes-R6r8hB/DH2973-100\",\n",
    "    \"https://www.nike.com/t/pegasus-trail-3-gore-tex-mens-running-shoes-HG005k/DR0137-200\"\n",
    "]\n",
    "\n",
    "budget = 150\n",
    "\n",
    "parent_flow(urls, budget)"
   ]
  },
  {
   "cell_type": "markdown",
   "metadata": {},
   "source": [
    "## What did it do?\n",
    "Let's look at the output found in the [shoes_in_my_budget](shoes_in_my_budget.md) markdown file...\n",
    "\n",
    "\n",
    "We see the links to the URLs pointing to shoes that have a `price` that is less than our `budget`."
   ]
  },
  {
   "cell_type": "markdown",
   "metadata": {},
   "source": [
    "### Benefits of using subflow patterns when applicable\n",
    "\n",
    "- Ability to orchestrate many instances of a complex, stateful workflow without duplicating work\n",
    "\n",
    "- Maintain visibility into each of the subflow processes via the UI\n",
    "\n",
    "<hr>\n",
    "\n",
    "### Discussion: What else might we want to use a subflow pattern for?\n",
    "\n",
    "#### Q&A\n"
   ]
  }
 ],
 "metadata": {
  "interpreter": {
   "hash": "3c6a96d98f84e7a88a93bc57534e3ab87e212fe52a51e18c9f6b99444c5d4384"
  },
  "kernelspec": {
   "display_name": "Python 3 (ipykernel)",
   "language": "python",
   "name": "python3"
  },
  "language_info": {
   "codemirror_mode": {
    "name": "ipython",
    "version": 3
   },
   "file_extension": ".py",
   "mimetype": "text/x-python",
   "name": "python",
   "nbconvert_exporter": "python",
   "pygments_lexer": "ipython3",
   "version": "3.7.12"
  }
 },
 "nbformat": 4,
 "nbformat_minor": 2
}
