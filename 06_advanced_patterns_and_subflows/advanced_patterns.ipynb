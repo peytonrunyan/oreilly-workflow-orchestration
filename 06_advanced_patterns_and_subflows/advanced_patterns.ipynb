{
 "cells": [
  {
   "cell_type": "markdown",
   "metadata": {},
   "source": [
    "## ***beyond the DAG*** - patterns in more complicated workflows\n",
    "\n",
    "### Concepts\n",
    "- **Flow of Flows**: parent orchestrator patterns and subflows\n",
    "\n",
    "- **Breaking the DAG**: changing the control flow on the fly"
   ]
  },
  {
   "cell_type": "markdown",
   "metadata": {},
   "source": [
    "## Extending the `nike_flow` from earlier\n",
    "Now imagine we have many URLs pointing to Nike shoes that we like, and we want to save all the shoes in our budget. \n",
    "\n",
    "We can create an instance of our `nike_flow` for each `url`, all wrapped in a new function we call `parent_flow`:\n",
    "\n",
    "\n",
    "```python\n",
    "@flow\n",
    "def parent_flow(urls: List[str], budget: int) -> None:\n",
    "    for url in urls:\n",
    "        nike_flow(url, budget)\n",
    "```\n",
    "\n",
    "\n",
    "In Prefect language, this is what we call a [subflow](https://orion-docs.prefect.io/concepts/flows/#subflows) pattern. \n",
    "\n",
    "Using such a pattern, we can dynamically change the execution of the `parent_flow` based on the results we get from each `nike_flow` instance (subflow) ***during runtime***. \n",
    "\n",
    "This what we mean by *\"breaking the DAG\"* since representing workflows as DAGs requires knowing the execution plan ***before runtime***.\n",
    "\n"
   ]
  },
  {
   "cell_type": "markdown",
   "metadata": {},
   "source": [
    "## our flow of flows"
   ]
  },
  {
   "cell_type": "markdown",
   "metadata": {},
   "source": [
    "Imports!"
   ]
  },
  {
   "cell_type": "code",
   "execution_count": 2,
   "metadata": {},
   "outputs": [],
   "source": [
    "from bs4 import BeautifulSoup\n",
    "from prefect import flow, task\n",
    "from typing import List\n",
    "import requests\n",
    "import re"
   ]
  },
  {
   "cell_type": "markdown",
   "metadata": {},
   "source": [
    "Let's use our old friend `find_nice_price` from earlier:"
   ]
  },
  {
   "cell_type": "code",
   "execution_count": 3,
   "metadata": {},
   "outputs": [],
   "source": [
    "@task(retries=3, retry_delay_seconds=10)\n",
    "def find_nike_price(url: str) -> int:\n",
    "    k = requests.get(url).text\n",
    "    soup = BeautifulSoup(k,'html.parser')\n",
    "    price_string = soup.find('div', {\"class\":\"product-price\"}).text.replace(' ','')\n",
    "    price = re.search('[0-9]+', price_string).group(0)\n",
    "    return int(price)"
   ]
  },
  {
   "cell_type": "code",
   "execution_count": null,
   "metadata": {},
   "outputs": [],
   "source": []
  },
  {
   "cell_type": "code",
   "execution_count": 4,
   "metadata": {},
   "outputs": [],
   "source": [
    "@task\n",
    "def inBudget(price: int, budget: int) -> bool:\n",
    "    return price <= budget"
   ]
  },
  {
   "cell_type": "code",
   "execution_count": 5,
   "metadata": {},
   "outputs": [],
   "source": [
    "@task\n",
    "def save(url: str, to: str = 'shoes_in_my_budget.md') -> None:\n",
    "    with open(to, 'w') as f:\n",
    "        link = f\"[{url.split('/t/')[-1]}]({url})\\n\\n\"\n",
    "        f.write(link)"
   ]
  },
  {
   "cell_type": "code",
   "execution_count": 6,
   "metadata": {},
   "outputs": [],
   "source": [
    "@flow\n",
    "def nike_flow(url: str, budget: int) -> None:\n",
    "    price = find_nike_price(url)\n",
    "    \n",
    "    if inBudget(price, budget).result():\n",
    "        save(url)"
   ]
  },
  {
   "cell_type": "code",
   "execution_count": 7,
   "metadata": {},
   "outputs": [],
   "source": [
    "@flow\n",
    "def parent_flow(urls: List[str], budget: int) -> None:\n",
    "    for url in urls:\n",
    "        nike_flow(url, budget)"
   ]
  },
  {
   "cell_type": "code",
   "execution_count": 8,
   "metadata": {},
   "outputs": [
    {
     "name": "stderr",
     "output_type": "stream",
     "text": [
      "02:15:16.191 | INFO    | prefect.engine - Created flow run 'icy-jackrabbit' for flow 'parent-flow'\n",
      "02:15:16.192 | INFO    | Flow run 'icy-jackrabbit' - Using task runner 'ConcurrentTaskRunner'\n",
      "02:15:16.293 | INFO    | Flow run 'icy-jackrabbit' - Created subflow run 'nimble-fossa' for flow 'nike-flow'\n",
      "02:15:16.367 | INFO    | Flow run 'nimble-fossa' - Created task run 'find_nike_price-3ad0ad07-0' for task 'find_nike_price'\n",
      "02:15:16.424 | INFO    | Flow run 'nimble-fossa' - Created task run 'inBudget-d36ec0d3-0' for task 'inBudget'\n",
      "/Users/nate/opt/miniconda3/envs/chess/lib/python3.7/site-packages/prefect/client.py:1196: UserWarning: No default storage has been set on the server. Using temporary local storage for results.\n",
      "  \"No default storage has been set on the server. \"\n",
      "02:15:17.405 | INFO    | Task run 'find_nike_price-3ad0ad07-0' - Finished in state Completed(None)\n",
      "02:15:17.443 | INFO    | Task run 'inBudget-d36ec0d3-0' - Finished in state Completed(None)\n",
      "02:15:17.471 | INFO    | Flow run 'nimble-fossa' - Finished in state Completed('All states completed.')\n",
      "02:15:17.522 | INFO    | Flow run 'icy-jackrabbit' - Created subflow run 'chocolate-pogona' for flow 'nike-flow'\n",
      "02:15:17.557 | INFO    | Flow run 'chocolate-pogona' - Created task run 'find_nike_price-3ad0ad07-1' for task 'find_nike_price'\n",
      "02:15:17.590 | INFO    | Flow run 'chocolate-pogona' - Created task run 'inBudget-d36ec0d3-1' for task 'inBudget'\n",
      "02:15:18.345 | INFO    | Task run 'find_nike_price-3ad0ad07-1' - Finished in state Completed(None)\n",
      "02:15:18.384 | INFO    | Task run 'inBudget-d36ec0d3-1' - Finished in state Completed(None)\n",
      "02:15:18.446 | INFO    | Flow run 'chocolate-pogona' - Created task run 'save-e8dd2001-0' for task 'save'\n",
      "02:15:18.505 | INFO    | Task run 'save-e8dd2001-0' - Finished in state Completed(None)\n",
      "02:15:18.550 | INFO    | Flow run 'chocolate-pogona' - Finished in state Completed('All states completed.')\n",
      "02:15:18.605 | INFO    | Flow run 'icy-jackrabbit' - Created subflow run 'sweet-roadrunner' for flow 'nike-flow'\n",
      "02:15:18.672 | INFO    | Flow run 'sweet-roadrunner' - Created task run 'find_nike_price-3ad0ad07-2' for task 'find_nike_price'\n",
      "02:15:18.704 | INFO    | Flow run 'sweet-roadrunner' - Created task run 'inBudget-d36ec0d3-2' for task 'inBudget'\n",
      "02:15:19.321 | INFO    | Task run 'find_nike_price-3ad0ad07-2' - Finished in state Completed(None)\n",
      "02:15:19.368 | INFO    | Task run 'inBudget-d36ec0d3-2' - Finished in state Completed(None)\n",
      "02:15:19.401 | INFO    | Flow run 'sweet-roadrunner' - Finished in state Completed('All states completed.')\n",
      "02:15:19.443 | INFO    | Flow run 'icy-jackrabbit' - Finished in state Completed('All states completed.')\n"
     ]
    },
    {
     "data": {
      "text/plain": [
       "Completed(message='All states completed.', type=COMPLETED, result=[Completed(message='All states completed.', type=COMPLETED, result=[Completed(message=None, type=COMPLETED, result=160, task_run_id=50a24187-d889-4a28-8dc6-1cafd21a1dd5), Completed(message=None, type=COMPLETED, result=False, task_run_id=c8c64e5f-4fed-45af-a1c6-cc477c68e1ee)], task_run_id=85cdfe25-59ff-4dd5-9e02-d81918ac9a3f), Completed(message='All states completed.', type=COMPLETED, result=[Completed(message=None, type=COMPLETED, result=140, task_run_id=b3ac2c04-48ce-4438-970a-f6d84db96d9e), Completed(message=None, type=COMPLETED, result=True, task_run_id=7d26217b-1aa6-4b0a-b768-f1aeba4c4ccf), Completed(message=None, type=COMPLETED, result=None, task_run_id=0436c654-9711-4b17-8d55-04661f0558ba)], task_run_id=1c8abb5a-54ff-495c-be55-69ba6648f640), Completed(message='All states completed.', type=COMPLETED, result=[Completed(message=None, type=COMPLETED, result=160, task_run_id=ff7b1323-cafb-4cfa-9bf5-239fc8d8e909), Completed(message=None, type=COMPLETED, result=False, task_run_id=b24d747f-f3a5-4014-a2f8-90850d2a4563)], task_run_id=8c99f3c9-df1a-4e70-8cef-0c2c873b5328)], flow_run_id=6db88d34-e98a-4883-8362-7655eff68aad)"
      ]
     },
     "execution_count": 8,
     "metadata": {},
     "output_type": "execute_result"
    }
   ],
   "source": [
    "urls = [\n",
    "    \"https://www.nike.com/t/air-max-270-womens-shoes-Pgb94t/AH6789-601\",\n",
    "    \"https://www.nike.com/t/air-max-terrascape-90-mens-shoes-R6r8hB/DH2973-100\",\n",
    "    \"https://www.nike.com/t/pegasus-trail-3-gore-tex-mens-running-shoes-HG005k/DR0137-200\"\n",
    "]\n",
    "\n",
    "budget = 150\n",
    "\n",
    "parent_flow(urls, budget)"
   ]
  },
  {
   "cell_type": "markdown",
   "metadata": {},
   "source": [
    "## What did it do?\n",
    "Let's look at the output found in the [shoes_in_my_budget](shoes_in_my_budget.md) markdown file...\n",
    "\n",
    "\n",
    "We see the links to the URLs pointing to shoes that have a `price` that is less than our `budget`."
   ]
  },
  {
   "cell_type": "markdown",
   "metadata": {},
   "source": [
    "### Benefits of using subflow patterns when applicable\n",
    "\n",
    "- Ability to orchestrate many instances of a complex, stateful workflow without duplicating work\n",
    "\n",
    "- Maintain visibility into each of the subflow processes via the UI\n",
    "\n",
    "<hr>\n",
    "\n",
    "### Discussion: What else might we want to use a subflow pattern for?\n",
    "\n",
    "#### Q&A\n"
   ]
  }
 ],
 "metadata": {
  "interpreter": {
   "hash": "3c6a96d98f84e7a88a93bc57534e3ab87e212fe52a51e18c9f6b99444c5d4384"
  },
  "kernelspec": {
   "display_name": "Python 3 (ipykernel)",
   "language": "python",
   "name": "python3"
  },
  "language_info": {
   "codemirror_mode": {
    "name": "ipython",
    "version": 3
   },
   "file_extension": ".py",
   "mimetype": "text/x-python",
   "name": "python",
   "nbconvert_exporter": "python",
   "pygments_lexer": "ipython3",
   "version": "3.7.12"
  }
 },
 "nbformat": 4,
 "nbformat_minor": 2
}
