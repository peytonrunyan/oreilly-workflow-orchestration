{
 "cells": [
  {
   "cell_type": "code",
   "execution_count": null,
   "metadata": {},
   "outputs": [
    {
     "ename": "",
     "evalue": "",
     "output_type": "error",
     "traceback": [
      "\u001b[1;31mFailed to start the Kernel. \n",
      "Failed to start the Kernel 'chess (Python 3.7.12)'. \n",
      "View Jupyter <a href='command:jupyter.viewOutput'>log</a> for further details. Kernel has not been started"
     ]
    }
   ],
   "source": [
    "from bs4 import BeautifulSoup\n",
    "from prefect import flow, task\n",
    "from typing import List\n",
    "import requests\n",
    "import re\n",
    "\n",
    "@task(retries=3, retry_delay_seconds=10)\n",
    "def find_nike_price(url):\n",
    "    k = requests.get(url).text\n",
    "    soup = BeautifulSoup(k,'html.parser')\n",
    "    price_string = soup.find('div', {\"class\":\"product-price\"}).text\n",
    "    price_string = price_string.replace(' ','')\n",
    "    price = int(re.search('[0-9]+',price_string).group(0))\n",
    "    return price\n",
    "\n",
    "@task\n",
    "def inBudget(price, budget):\n",
    "    return price <= budget\n",
    "\n",
    "@task\n",
    "def save(url: str, to: str = 'shoes_in_my_budget.html') -> None:\n",
    "    with open(to, 'w') as f:\n",
    "        f.write(url)\n",
    "\n",
    "@flow\n",
    "def nike_flow(url, budget):\n",
    "    price = find_nike_price(url)\n",
    "    \n",
    "    if inBudget(price, budget):\n",
    "        print('do something')\n",
    "\n",
    "@flow\n",
    "def parent_flow(urls: List[str]) -> None:\n",
    "    for url in urls:\n",
    "        nike_flow(url, budget)\n",
    "        \n",
    "if __name__ == \"__main__\":\n",
    "    \n",
    "    urls = [\"https://www.nike.com/t/air-max-270-womens-shoes-Pgb94t/AH6789-601\"]\n",
    "    budget = 120\n",
    "    \n",
    "    parent_flow(urls)\n"
   ]
  },
  {
   "cell_type": "code",
   "execution_count": null,
   "metadata": {},
   "outputs": [],
   "source": []
  }
 ],
 "metadata": {
  "interpreter": {
   "hash": "3c6a96d98f84e7a88a93bc57534e3ab87e212fe52a51e18c9f6b99444c5d4384"
  },
  "kernelspec": {
   "display_name": "Python 3.10.0 64-bit ('3.10.0')",
   "language": "python",
   "name": "python3"
  },
  "language_info": {
   "codemirror_mode": {
    "name": "ipython",
    "version": 3
   },
   "file_extension": ".py",
   "mimetype": "text/x-python",
   "name": "python",
   "nbconvert_exporter": "python",
   "pygments_lexer": "ipython3",
   "version": "3.7.12"
  },
  "orig_nbformat": 4
 },
 "nbformat": 4,
 "nbformat_minor": 2
}
