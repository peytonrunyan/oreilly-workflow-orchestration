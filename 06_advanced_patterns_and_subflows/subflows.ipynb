{
 "cells": [
  {
   "cell_type": "code",
   "execution_count": 19,
   "metadata": {},
   "outputs": [
    {
     "name": "stderr",
     "output_type": "stream",
     "text": [
      "12:00:52.272 | INFO    | prefect.engine - Created flow run 'silver-aardwolf' for flow 'Get all repo Github stars'\n",
      "12:00:52.273 | INFO    | Flow run 'silver-aardwolf' - Using task runner 'DaskTaskRunner'\n",
      "12:00:52.273 | INFO    | prefect.task_runner.dask - Creating a new Dask cluster with `distributed.deploy.local.LocalCluster`\n",
      "12:00:53.437 | INFO    | prefect.task_runner.dask - The Dask dashboard is available at http://127.0.0.1:8787/status\n",
      "12:00:53.509 | INFO    | Flow run 'silver-aardwolf' - Created subflow run 'almond-ferret' for flow 'Get repo stargazers_count'\n",
      "12:00:53.545 | INFO    | Flow run 'almond-ferret' - Created task run 'get_star_count-d0b5f192-0' for task 'get_star_count'\n",
      "12:00:53.953 | INFO    | Task run 'get_star_count-d0b5f192-0' - Finished in state Completed(None)\n",
      "12:00:54.193 | INFO    | Flow run 'almond-ferret' - Finished in state Completed('All states completed.')\n",
      "12:00:54.242 | INFO    | Flow run 'silver-aardwolf' - Created subflow run 'visionary-squid' for flow 'Get repo stargazers_count'\n"
     ]
    },
    {
     "name": "stdout",
     "output_type": "stream",
     "text": [
      "PrefectHQ/Prefect has 8593 stars!\n"
     ]
    },
    {
     "name": "stderr",
     "output_type": "stream",
     "text": [
      "12:00:54.279 | INFO    | Flow run 'visionary-squid' - Created task run 'get_star_count-d0b5f192-1' for task 'get_star_count'\n",
      "12:00:54.705 | INFO    | Task run 'get_star_count-d0b5f192-1' - Finished in state Completed(None)\n"
     ]
    },
    {
     "name": "stdout",
     "output_type": "stream",
     "text": [
      "PrefectHQ/miter-design has 13 stars!\n"
     ]
    },
    {
     "name": "stderr",
     "output_type": "stream",
     "text": [
      "12:00:55.149 | INFO    | Flow run 'visionary-squid' - Finished in state Completed('All states completed.')\n",
      "12:00:55.330 | INFO    | Flow run 'silver-aardwolf' - Finished in state Completed('All states completed.')\n"
     ]
    }
   ],
   "source": [
    "from prefect import flow, task\n",
    "from prefect.task_runners import DaskTaskRunner\n",
    "from typing import List\n",
    "import httpx\n",
    "\n",
    "@task(retries=3)\n",
    "def get_star_count(repo_url: str) -> int:\n",
    "    return httpx.get(repo_url).json()[\"stargazers_count\"]\n",
    "\n",
    "@flow(name=\"Get repo stargazers_count\")\n",
    "def get_repo_stars(repo: str) -> None:\n",
    "    url = f\"https://api.github.com/repos/{repo}\"\n",
    "    count = get_star_count(url).result()\n",
    "    print(f\"{repo} has {count} stars!\")\n",
    "\n",
    "@flow(name=\"Get all repo Github stars\", task_runner=DaskTaskRunner())\n",
    "def github_stars(repos: List[str]):\n",
    "    for repo in repos:\n",
    "        get_repo_stars(repo)\n",
    "\n",
    "# run the flow!\n",
    "if __name__ == \"__main__\":\n",
    "    github_stars([\"PrefectHQ/Prefect\", \"PrefectHQ/miter-design\"])"
   ]
  }
 ],
 "metadata": {
  "interpreter": {
   "hash": "3c6a96d98f84e7a88a93bc57534e3ab87e212fe52a51e18c9f6b99444c5d4384"
  },
  "kernelspec": {
   "display_name": "Python 3.10.0 64-bit ('3.10.0')",
   "language": "python",
   "name": "python3"
  },
  "language_info": {
   "codemirror_mode": {
    "name": "ipython",
    "version": 3
   },
   "file_extension": ".py",
   "mimetype": "text/x-python",
   "name": "python",
   "nbconvert_exporter": "python",
   "pygments_lexer": "ipython3",
   "version": "3.7.12"
  },
  "orig_nbformat": 4
 },
 "nbformat": 4,
 "nbformat_minor": 2
}
