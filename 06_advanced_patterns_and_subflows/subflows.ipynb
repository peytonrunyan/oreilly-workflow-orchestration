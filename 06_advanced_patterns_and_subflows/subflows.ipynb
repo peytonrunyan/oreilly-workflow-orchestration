{
 "cells": [
  {
   "cell_type": "code",
   "execution_count": 10,
   "metadata": {},
   "outputs": [
    {
     "name": "stderr",
     "output_type": "stream",
     "text": [
      "11:42:54.822 | INFO    | prefect.engine - Created flow run 'refined-worm' for flow 'Github Stars'\n",
      "11:42:54.823 | INFO    | Flow run 'refined-worm' - Using task runner 'DaskTaskRunner'\n",
      "11:42:54.824 | INFO    | prefect.task_runner.dask - Creating a new Dask cluster with `distributed.deploy.local.LocalCluster`\n",
      "11:42:56.500 | INFO    | prefect.task_runner.dask - The Dask dashboard is available at http://127.0.0.1:8787/status\n",
      "11:42:56.601 | INFO    | Flow run 'refined-worm' - Created subflow run 'merry-chameleon' for flow 'get-repo-stars'\n",
      "11:42:56.639 | INFO    | Flow run 'merry-chameleon' - Created task run 'get_star_count-d0b5f192-0' for task 'get_star_count'\n"
     ]
    },
    {
     "name": "stdout",
     "output_type": "stream",
     "text": [
      "PrefectHQ/Prefect has PrefectFuture('get_star_count-d0b5f192-0') stars!\n"
     ]
    },
    {
     "name": "stderr",
     "output_type": "stream",
     "text": [
      "/Users/nate/opt/miniconda3/envs/chess/lib/python3.7/site-packages/prefect/client.py:1228: UserWarning: No default storage has been set on the server. Using temporary local storage for results.\n",
      "  \n",
      "11:42:56.999 | INFO    | Task run 'get_star_count-d0b5f192-0' - Finished in state Completed(None)\n",
      "11:42:57.296 | INFO    | Flow run 'merry-chameleon' - Finished in state Completed('All states completed.')\n",
      "11:42:57.351 | INFO    | Flow run 'refined-worm' - Created subflow run 'righteous-bobcat' for flow 'get-repo-stars'\n",
      "11:42:57.395 | INFO    | Flow run 'righteous-bobcat' - Created task run 'get_star_count-d0b5f192-1' for task 'get_star_count'\n"
     ]
    },
    {
     "name": "stdout",
     "output_type": "stream",
     "text": [
      "PrefectHQ/miter-design has PrefectFuture('get_star_count-d0b5f192-1') stars!\n"
     ]
    },
    {
     "name": "stderr",
     "output_type": "stream",
     "text": [
      "11:42:57.755 | INFO    | Task run 'get_star_count-d0b5f192-1' - Finished in state Completed(None)\n",
      "11:42:58.161 | INFO    | Flow run 'righteous-bobcat' - Finished in state Completed('All states completed.')\n",
      "11:42:58.342 | INFO    | Flow run 'refined-worm' - Finished in state Completed('All states completed.')\n"
     ]
    }
   ],
   "source": [
    "from prefect import flow, task\n",
    "from prefect.task_runners import DaskTaskRunner\n",
    "from typing import List\n",
    "import httpx\n",
    "\n",
    "@task(retries=3)\n",
    "def get_star_count(repo_url: str) -> int:\n",
    "    return httpx.get(repo_url).json()[\"stargazers_count\"]\n",
    "\n",
    "@flow\n",
    "def get_repo_stars(repo: str) -> None:\n",
    "    url = f\"https://api.github.com/repos/{repo}\"\n",
    "    count = get_star_count(url)\n",
    "    print(f\"{repo} has {count} stars!\")\n",
    "\n",
    "@flow(name=\"Github Stars\", task_runner=DaskTaskRunner())\n",
    "def github_stars(repos: List[str]):\n",
    "    for repo in repos:\n",
    "        get_repo_stars(repo)\n",
    "\n",
    "# run the flow!\n",
    "if __name__ == \"__main__\":\n",
    "    github_stars([\"PrefectHQ/Prefect\", \"PrefectHQ/miter-design\"])"
   ]
  }
 ],
 "metadata": {
  "interpreter": {
   "hash": "3c6a96d98f84e7a88a93bc57534e3ab87e212fe52a51e18c9f6b99444c5d4384"
  },
  "kernelspec": {
   "display_name": "Python 3.10.0 64-bit ('3.10.0')",
   "language": "python",
   "name": "python3"
  },
  "language_info": {
   "codemirror_mode": {
    "name": "ipython",
    "version": 3
   },
   "file_extension": ".py",
   "mimetype": "text/x-python",
   "name": "python",
   "nbconvert_exporter": "python",
   "pygments_lexer": "ipython3",
   "version": "3.7.12"
  },
  "orig_nbformat": 4
 },
 "nbformat": 4,
 "nbformat_minor": 2
}
