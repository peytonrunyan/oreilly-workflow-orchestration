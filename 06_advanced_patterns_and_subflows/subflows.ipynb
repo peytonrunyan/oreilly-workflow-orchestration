{
 "cells": [
  {
   "cell_type": "code",
   "execution_count": null,
   "metadata": {},
   "outputs": [],
   "source": [
    "from prefect import flow, task\n",
    "from prefect.task_runners import DaskTaskRunner\n",
    "from typing import List\n",
    "import httpx\n",
    "\n",
    "@task(retries=3)\n",
    "def get_star_count(repo_url: str) -> int:\n",
    "    return httpx.get(repo_url).json()[\"stargazers_count\"]\n",
    "\n",
    "@flow\n",
    "def get_repo_stars(repo: str) -> None:\n",
    "    url = f\"https://api.github.com/repos/{repo}\"\n",
    "    count = get_star_count(url).result()\n",
    "    print(f\"{repo} has {count} stars!\")\n",
    "\n",
    "@flow(name=\"Github Stars\", task_runner=DaskTaskRunner())\n",
    "def github_stars(repos: List[str]):\n",
    "    for repo in repos:\n",
    "        get_repo_stars(repo)\n",
    "\n",
    "# run the flow!\n",
    "if __name__ == \"__main__\":\n",
    "    github_stars([\"PrefectHQ/Prefect\", \"PrefectHQ/miter-design\"])"
   ]
  }
 ],
 "metadata": {
  "interpreter": {
   "hash": "3c6a96d98f84e7a88a93bc57534e3ab87e212fe52a51e18c9f6b99444c5d4384"
  },
  "kernelspec": {
   "display_name": "Python 3.10.0 64-bit ('3.10.0')",
   "language": "python",
   "name": "python3"
  },
  "language_info": {
   "codemirror_mode": {
    "name": "ipython",
    "version": 3
   },
   "file_extension": ".py",
   "mimetype": "text/x-python",
   "name": "python",
   "nbconvert_exporter": "python",
   "pygments_lexer": "ipython3",
   "version": "3.7.12"
  },
  "orig_nbformat": 4
 },
 "nbformat": 4,
 "nbformat_minor": 2
}
