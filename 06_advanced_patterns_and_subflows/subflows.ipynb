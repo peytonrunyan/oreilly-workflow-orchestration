{
 "cells": [
  {
   "cell_type": "code",
   "execution_count": 1,
   "metadata": {},
   "outputs": [
    {
     "ename": "ModuleNotFoundError",
     "evalue": "No module named 'bs4'",
     "output_type": "error",
     "traceback": [
      "\u001b[0;31m---------------------------------------------------------------------------\u001b[0m",
      "\u001b[0;31mModuleNotFoundError\u001b[0m                       Traceback (most recent call last)",
      "\u001b[0;32m/var/folders/mz/myyrd_nd7bng075xq77gr1j40000gn/T/ipykernel_8476/1991967775.py\u001b[0m in \u001b[0;36m<module>\u001b[0;34m\u001b[0m\n\u001b[1;32m      2\u001b[0m \u001b[0;32mimport\u001b[0m \u001b[0mrequests\u001b[0m\u001b[0;34m\u001b[0m\u001b[0;34m\u001b[0m\u001b[0m\n\u001b[1;32m      3\u001b[0m \u001b[0;32mimport\u001b[0m \u001b[0mre\u001b[0m\u001b[0;34m\u001b[0m\u001b[0;34m\u001b[0m\u001b[0m\n\u001b[0;32m----> 4\u001b[0;31m \u001b[0;32mfrom\u001b[0m \u001b[0mbs4\u001b[0m \u001b[0;32mimport\u001b[0m \u001b[0mBeautifulSoup\u001b[0m\u001b[0;34m\u001b[0m\u001b[0;34m\u001b[0m\u001b[0m\n\u001b[0m\u001b[1;32m      5\u001b[0m \u001b[0;32mimport\u001b[0m \u001b[0mtime\u001b[0m\u001b[0;34m\u001b[0m\u001b[0;34m\u001b[0m\u001b[0m\n\u001b[1;32m      6\u001b[0m \u001b[0;34m\u001b[0m\u001b[0m\n",
      "\u001b[0;31mModuleNotFoundError\u001b[0m: No module named 'bs4'"
     ]
    }
   ],
   "source": [
    "from bs4 import BeautifulSoup\n",
    "from prefect import flow, task\n",
    "from typing import List\n",
    "import requests\n",
    "import re\n",
    "\n",
    "@task(retries=3, retry_delay_seconds=10)\n",
    "def find_nike_price(url):\n",
    "    k = requests.get(url).text\n",
    "    soup = BeautifulSoup(k,'html.parser')\n",
    "    price_string = soup.find('div', {\"class\":\"product-price\"}).text\n",
    "    price_string = price_string.replace(' ','')\n",
    "    price = int(re.search('[0-9]+',price_string).group(0))\n",
    "    return price\n",
    "\n",
    "@task\n",
    "def inBudget(price, budget):\n",
    "    return price <= budget\n",
    "\n",
    "@flow\n",
    "def nike_flow(url, budget):\n",
    "    price = find_nike_price(url)\n",
    "    \n",
    "    if inBudget(price, budget):\n",
    "        print('do something')\n",
    "\n",
    "@flow\n",
    "def orchestrator(urls: List[str]) -> None:\n",
    "    for url in urls:\n",
    "        nike_flow(url, budget)\n",
    "        \n",
    "if __name__ == \"__main__\":\n",
    "    \n",
    "    urls = [\"https://www.nike.com/t/air-max-270-womens-shoes-Pgb94t/AH6789-601\"]\n",
    "    budget = 120\n",
    "    \n",
    "    orchestrator(urls)\n"
   ]
  },
  {
   "cell_type": "code",
   "execution_count": null,
   "metadata": {},
   "outputs": [],
   "source": []
  }
 ],
 "metadata": {
  "interpreter": {
   "hash": "3c6a96d98f84e7a88a93bc57534e3ab87e212fe52a51e18c9f6b99444c5d4384"
  },
  "kernelspec": {
   "display_name": "Python 3.10.0 64-bit ('3.10.0')",
   "language": "python",
   "name": "python3"
  },
  "language_info": {
   "codemirror_mode": {
    "name": "ipython",
    "version": 3
   },
   "file_extension": ".py",
   "mimetype": "text/x-python",
   "name": "python",
   "nbconvert_exporter": "python",
   "pygments_lexer": "ipython3",
   "version": "3.7.12"
  },
  "orig_nbformat": 4
 },
 "nbformat": 4,
 "nbformat_minor": 2
}
