{
 "cells": [
  {
   "cell_type": "markdown",
   "metadata": {},
   "source": [
    "# Workflow Orchestration\n",
    "\n",
    "![img](https://miro.medium.com/max/1400/1*VTRH5WAotHAz_yKD-1XqWg.png)\n",
    "\n",
    "Workflow orchestration frameworks are primarily used to monitor and observe the movement of data in production applications. \n",
    "\n",
    "Such frameworks typically include a family of independent features that collectively make modern data pipelines fault-tolerant and robust. These features include:\n",
    "\n",
    "* scheduling and triggering jobs\n",
    "* retrying failed work\n",
    "* dependency and state management\n",
    "* caching expensive tasks\n",
    "* resource management\n",
    "* observability\n",
    "\n",
    "These allow us to gracefully handle failure events, including scenarios beyond our control like cloud outages or API failures. Without explicitly tracking states in data pipelines, they become prone to triggering premature jobs, re-running already completed work, or even failing haphazardly. \n",
    "\n",
    "The features workflow orchestration provides are not limited to supporting the scheduled movement of data from a source to a destination. \n",
    "\n",
    "These features are also heavily applied in other domains such as machine learning and parameterized report generation. Presently, workflow orchestration is getting simple enough for hobbyists to adopt for personal projects. \n"
   ]
  },
  {
   "cell_type": "markdown",
   "metadata": {},
   "source": [
    "## Negative Engineering\n",
    "Negative Engineering happens when engineers write defensive code to make sure the positive code acutally runs. Writing code that anticipates the infinite number of possible failures.\n",
    "\n",
    "Let's take an example of giving a data engineer a task, they will probably ask for python, cron for automation and more computers so that they can run the python somewhere. \n",
    "\n",
    "![img](https://media-exp1.licdn.com/dms/image/C5612AQGJ5uRJxPycPQ/article-cover_image-shrink_423_752/0/1520219397019?e=2147483647&v=beta&t=sxO6C8v4yIHfmWdLMfG1cDdgwbXNWV_mHHrbw98OCqs)\n",
    "\n",
    "Negative engineering that just happened: \n",
    "- provisioning infrastructure (always on vm)\n",
    "- how do we know the cron job ran?\n",
    "- how do we debug failures?\n",
    "\n",
    "No worries! We're smart, we can solve this. \n",
    "- We'll just add some logging\n",
    "- Write to a file when the job completes \n",
    "- Add try / excepts with some alert code\n",
    "\n",
    "You can image how the story goes on where requirements change and more issues arise where the engineer keeps adding more code to anticipate the different failures.  \n",
    "\n",
    "You can watch the entire story in this [youtube video](https://www.youtube.com/watch?v=wejJzGQ4XDo). \n",
    "\n",
    "\n",
    "#### Why this matters to you?\n",
    "- contiually patching of legacy pipelines\n",
    "- time spent fixing problems instead of building something new"
   ]
  },
  {
   "cell_type": "markdown",
   "metadata": {},
   "source": [
    "## Consequences of pipeline failures\n",
    "* time spent finding where in the pipeline the failure occurred\n",
    "* premature job triggers\n",
    "* data staleness \n",
    "* expensive compute rerunning tasks \n",
    "* duplicating work\n"
   ]
  },
  {
   "cell_type": "markdown",
   "metadata": {},
   "source": [
    "## Common workflow patterns\n",
    "\n",
    "- ETL \n",
    "- ELT\n",
    "- ML\n",
    "- Dashboarding\n",
    "- DevOps\n"
   ]
  },
  {
   "cell_type": "markdown",
   "metadata": {},
   "source": [
    "## Exercise: Native Python Work Example\n",
    "\n",
    "Say I have a pair of shoes I really want to buy but I have a tight budget. I want to find out when the shoe price drops so that I can buy them. For this example, let's create a python script that will find the price of the shoes online and then compare to my budget and print out whether or not I should buy the shoes. "
   ]
  },
  {
   "cell_type": "markdown",
   "metadata": {},
   "source": [
    "First let's install a python library to scrape html from a shoe webite that we will need as a dependency. "
   ]
  },
  {
   "cell_type": "code",
   "execution_count": null,
   "metadata": {},
   "outputs": [],
   "source": [
    "!pip install beautifulsoup4"
   ]
  },
  {
   "cell_type": "markdown",
   "metadata": {},
   "source": [
    "Import the libraries we will use for this example."
   ]
  },
  {
   "cell_type": "code",
   "execution_count": null,
   "metadata": {},
   "outputs": [],
   "source": [
    "import requests\n",
    "import re\n",
    "from bs4 import BeautifulSoup\n",
    "import time"
   ]
  },
  {
   "cell_type": "markdown",
   "metadata": {},
   "source": [
    "Our function to find the price of a shoe will take a URL and then parse the html looking for the product-price and will return the price. "
   ]
  },
  {
   "cell_type": "code",
   "execution_count": null,
   "metadata": {},
   "outputs": [],
   "source": [
    "def find_nike_price(url):\n",
    "    k = requests.get(url).text\n",
    "    soup = BeautifulSoup(k,'html.parser')\n",
    "    price_string = soup.find('div', {\"class\":\"product-price\"}).text\n",
    "    price_string = price_string.replace(' ','')\n",
    "    price = int(re.search('[0-9]+',price_string).group(0))\n",
    "    return price"
   ]
  },
  {
   "cell_type": "markdown",
   "metadata": {},
   "source": [
    "We'll build a function to compare the price returned from the URL to our budget. "
   ]
  },
  {
   "cell_type": "code",
   "execution_count": null,
   "metadata": {},
   "outputs": [],
   "source": [
    "def compare_price(price, budget):\n",
    "    if price <= budget:\n",
    "       print(f\"Buy the shoes! Good deal!\")\n",
    "    else:\n",
    "        print(f\"Don't buy the shoes. They're too expensive\")\n"
   ]
  },
  {
   "cell_type": "markdown",
   "metadata": {},
   "source": [
    "We should test our function to make sure it's working properly"
   ]
  },
  {
   "cell_type": "code",
   "execution_count": null,
   "metadata": {},
   "outputs": [],
   "source": [
    "# Test the function - should print buy the shoes\n",
    "compare_price(120, 150)\n",
    "\n",
    "# Test the function - should print too expensive\n",
    "compare_price(150, 120)"
   ]
  },
  {
   "cell_type": "markdown",
   "metadata": {},
   "source": [
    "Now that we have a function to grab a price from a URL, and a function that compares the prices, we can put it all together. "
   ]
  },
  {
   "cell_type": "code",
   "execution_count": null,
   "metadata": {},
   "outputs": [],
   "source": [
    "\n",
    "def nike_flow(url, budget):\n",
    "    price = find_nike_price(url)\n",
    "    compare_price(price, budget)\n",
    "\n",
    "\n",
    "url = \"https://www.nike.com/t/air-max-270-womens-shoes-Pgb94t/AH6789-601\"\n",
    "budget = 120\n",
    "\n",
    "nike_flow(url, budget)"
   ]
  },
  {
   "cell_type": "markdown",
   "metadata": {},
   "source": [
    "Now if I wanted to put this on a schedule I might add something like this:"
   ]
  },
  {
   "cell_type": "code",
   "execution_count": null,
   "metadata": {},
   "outputs": [],
   "source": [
    "# time.sleep with infinite loop to put this on a schedule\n",
    "\n",
    "while True:\n",
    "    time.sleep(300)\n",
    "    nike_flow(url, budget)"
   ]
  },
  {
   "cell_type": "markdown",
   "metadata": {},
   "source": [
    "## Discussion: What Can You Use Workflow Orchestration For?\n",
    "\n",
    "Fun Examples:\n",
    "- March Madness brackets\n",
    "- Notification on shoe prices \n",
    "- Turning off your lights (us not being lazy)\n",
    "- Notifications on crypto "
   ]
  },
  {
   "cell_type": "markdown",
   "metadata": {},
   "source": [
    "## Q&A"
   ]
  },
  {
   "cell_type": "markdown",
   "metadata": {},
   "source": [
    "## Reference\n",
    "Full Code Example all put together:"
   ]
  },
  {
   "cell_type": "code",
   "execution_count": null,
   "metadata": {},
   "outputs": [],
   "source": [
    "import requests\n",
    "import re\n",
    "from bs4 import BeautifulSoup\n",
    "import time\n",
    "\n",
    "def find_nike_price(url):\n",
    "    k = requests.get(url).text\n",
    "    soup = BeautifulSoup(k,'html.parser')\n",
    "    price_string = soup.find('div', {\"class\":\"product-price\"}).text\n",
    "    price_string = price_string.replace(' ','')\n",
    "    price = int(re.search('[0-9]+',price_string).group(0))\n",
    "    return price\n",
    "\n",
    "def compare_price(price, budget):\n",
    "    if price <= budget:\n",
    "       print(f\"Buy the shoes! Good deal!\")\n",
    "    else:\n",
    "        print(f\"Don't buy the shoes. They're too expensive\")\n",
    "\n",
    "def nike_flow(url, budget):\n",
    "    price = find_nike_price(url)\n",
    "    compare_price(price, budget)\n",
    "\n",
    "if __name__ == \"__main__\":\n",
    "    \n",
    "    url = \"https://www.nike.com/t/air-max-270-womens-shoes-Pgb94t/AH6789-601\"\n",
    "    budget = 120\n",
    "\n",
    "    # time.sleep with infinite loop to put this on a schedule\n",
    "\n",
    "    # while True:\n",
    "    #     time.sleep(300)\n",
    "    #     nike_flow(url, budget)\n",
    "\n",
    "    nike_flow(url, budget)"
   ]
  }
 ],
 "metadata": {
  "interpreter": {
   "hash": "81b036288c363f09b8c161759d94317306f302e0c8a6002c86e145d553270ed2"
  },
  "kernelspec": {
   "display_name": "Python 3.8.12 ('orion-dev')",
   "language": "python",
   "name": "python3"
  },
  "language_info": {
   "codemirror_mode": {
    "name": "ipython",
    "version": 3
   },
   "file_extension": ".py",
   "mimetype": "text/x-python",
   "name": "python",
   "nbconvert_exporter": "python",
   "pygments_lexer": "ipython3",
   "version": "3.8.12"
  },
  "orig_nbformat": 4
 },
 "nbformat": 4,
 "nbformat_minor": 2
}
