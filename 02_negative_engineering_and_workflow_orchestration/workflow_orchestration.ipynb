{
 "cells": [
  {
   "cell_type": "markdown",
   "metadata": {},
   "source": [
    "# Workflow Orchestration\n",
    "\n",
    "Workflow orchestration frameworks are primarily used to monitor and observe the movement of data in production applications. Such frameworks typically include a family of independent features that collectively make modern data pipelines fault-tolerant and robust. These features include:\n",
    "\n",
    "* scheduling and triggering jobs\n",
    "* retrying failed work\n",
    "* dependency and state management\n",
    "* caching expensive tasks\n",
    "* resource management\n",
    "* observability\n",
    "\n",
    "These allow us to gracefully handle failure events, including scenarios beyond our control like cloud outages or API failures. Without explicitly tracking states in data pipelines, they become prone to triggering premature jobs, re-running already completed work, or even failing haphazardly. \n",
    "\n",
    "The features workflow orchestration provides are not limited to supporting the scheduled movement of data from a source to a destination. These features are also heavily applied in other domains such as machine learning and parameterized report generation. Presently, workflow orchestration is getting simple enough for hobbyists to adopt for personal projects. \n"
   ]
  },
  {
   "cell_type": "markdown",
   "metadata": {},
   "source": [
    "#### Negative Engineering\n",
    "Negative Engineering happens when engineers write defensive code to make sure the positive code acutally runs. Writing code that anticipates the infinite number of possible failures.\n",
    "\n",
    "#### Why this matters to you\n",
    "- contiually patching of legacy pipelines "
   ]
  },
  {
   "cell_type": "markdown",
   "metadata": {},
   "source": [
    "#### Consequences of pipeline failures\n",
    "* time spent finding where in the pipeline the failure occurred\n",
    "* premature job triggers\n",
    "* data staleness \n",
    "* expensive compute rerunning tasks \n",
    "* duplicating work\n"
   ]
  },
  {
   "cell_type": "markdown",
   "metadata": {},
   "source": [
    "#### Common workflow patterns\n",
    "\n",
    "- ETL \n",
    "- ELT\n",
    "- ML\n",
    "- Dashboarding\n",
    "- DevOps\n"
   ]
  },
  {
   "cell_type": "markdown",
   "metadata": {},
   "source": [
    "#### Exercise: Native Python Work Example\n",
    "\n",
    "I have a pair of shoes I really want to buy but I have a tight budget. I want to find out when the shoe price drops so that I can buy them. For this example, I will create a python script that will find the price of the shoes online and then compare to my budget and print out whether or not I should buy the shoes. "
   ]
  },
  {
   "cell_type": "code",
   "execution_count": 5,
   "metadata": {},
   "outputs": [
    {
     "name": "stdout",
     "output_type": "stream",
     "text": [
      "Requirement already satisfied: beautifulsoup4 in /Users/kaliserichmond/opt/anaconda3/envs/orion-dev/lib/python3.8/site-packages (4.10.0)\n",
      "Requirement already satisfied: soupsieve>1.2 in /Users/kaliserichmond/opt/anaconda3/envs/orion-dev/lib/python3.8/site-packages (from beautifulsoup4) (2.3.1)\n"
     ]
    }
   ],
   "source": [
    "!pip install beautifulsoup4"
   ]
  },
  {
   "cell_type": "code",
   "execution_count": 4,
   "metadata": {},
   "outputs": [
    {
     "name": "stdout",
     "output_type": "stream",
     "text": [
      "Don't buy the shoes. They're too expensive\n"
     ]
    }
   ],
   "source": [
    "import requests\n",
    "import re\n",
    "from bs4 import BeautifulSoup\n",
    "import time\n",
    "\n",
    "def find_nike_price(url):\n",
    "    k = requests.get(url).text\n",
    "    soup = BeautifulSoup(k,'html.parser')\n",
    "    price_string = soup.find('div', {\"class\":\"product-price\"}).text\n",
    "    price_string = price_string.replace(' ','')\n",
    "    price = int(re.search('[0-9]+',price_string).group(0))\n",
    "    return price\n",
    "\n",
    "def compare_price(price, budget):\n",
    "    if price <= budget:\n",
    "       print(f\"Buy the shoes! Good deal!\")\n",
    "    else:\n",
    "        print(f\"Don't buy the shoes. They're too expensive\")\n",
    "\n",
    "def nike_flow(url, budget):\n",
    "    price = find_nike_price(url)\n",
    "    compare_price(price, budget)\n",
    "\n",
    "if __name__ == \"__main__\":\n",
    "    \n",
    "    url = \"https://www.nike.com/t/air-max-270-womens-shoes-Pgb94t/AH6789-601\"\n",
    "    budget = 120\n",
    "\n",
    "    # time.sleep with infinite loop to put this on a schedule\n",
    "\n",
    "    # while True:\n",
    "    #     time.sleep(300)\n",
    "    #     nike_flow(url, budget)\n",
    "\n",
    "    nike_flow(url, budget)"
   ]
  },
  {
   "cell_type": "markdown",
   "metadata": {},
   "source": [
    "#### Discussion: What Can You Use Workflow Orchestration For?\n",
    "\n",
    "For Funsies:\n",
    "- March Madness brackets\n",
    "- Notification on shoe prices \n",
    "- Turning off your lights (us not being lazy)\n",
    "- Notifications on crypto "
   ]
  },
  {
   "cell_type": "markdown",
   "metadata": {},
   "source": [
    "#### Q&A"
   ]
  }
 ],
 "metadata": {
  "interpreter": {
   "hash": "81b036288c363f09b8c161759d94317306f302e0c8a6002c86e145d553270ed2"
  },
  "kernelspec": {
   "display_name": "Python 3.8.12 ('orion-dev')",
   "language": "python",
   "name": "python3"
  },
  "language_info": {
   "codemirror_mode": {
    "name": "ipython",
    "version": 3
   },
   "file_extension": ".py",
   "mimetype": "text/x-python",
   "name": "python",
   "nbconvert_exporter": "python",
   "pygments_lexer": "ipython3",
   "version": "3.8.12"
  },
  "orig_nbformat": 4
 },
 "nbformat": 4,
 "nbformat_minor": 2
}
