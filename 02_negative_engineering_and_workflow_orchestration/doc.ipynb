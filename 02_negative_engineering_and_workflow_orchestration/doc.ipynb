{
 "cells": [
  {
   "cell_type": "markdown",
   "metadata": {},
   "source": [
    "* Workflow Orchestration \n",
    "* Negative Engineering - How Production Data Pipelines can Fail\n",
    "* Consequences of Pipeline Failures\n",
    "* Common Workflow Patterns\n",
    "* Exercise: Native Python Work Example\n",
    "* Presentation: The Need for Workflow Orchestration\n",
    "* Discussion: What Can You Use Workflow Orchestration For?\n",
    "* Q&A\n"
   ]
  },
  {
   "cell_type": "markdown",
   "metadata": {},
   "source": [
    "#### Negative Engineering\n",
    "Negative Engineering happens when engineers write defensive code to make sure the positive code acutally runs. Writing code that anticipates the infinite number of possible failures."
   ]
  },
  {
   "cell_type": "markdown",
   "metadata": {},
   "source": [
    "#### Exercise: Native Python Work Example"
   ]
  },
  {
   "cell_type": "code",
   "execution_count": null,
   "metadata": {},
   "outputs": [],
   "source": [
    "from prefect import flow, task\n",
    "from typing import List\n",
    "import httpx\n",
    "\n",
    "@task(retries=3)\n",
    "def get_stars(repo: str):\n",
    "    url = f\"https://api.github.com/repos/{repo}\"\n",
    "    count = httpx.get(url).json()[\"stargazers_count\"]\n",
    "    print(f\"{repo} has {count} stars!\")\n",
    "\n",
    "\n",
    "@flow(name=\"Github Stars\")\n",
    "def github_stars(repos: List[str]):\n",
    "    for repo in repos:\n",
    "        get_stars(repo)\n",
    "\n",
    "# run the flow!\n",
    "github_stars([\"PrefectHQ/Prefect\", \"PrefectHQ/miter-design\"])"
   ]
  }
 ],
 "metadata": {
  "language_info": {
   "name": "python"
  },
  "orig_nbformat": 4
 },
 "nbformat": 4,
 "nbformat_minor": 2
}
