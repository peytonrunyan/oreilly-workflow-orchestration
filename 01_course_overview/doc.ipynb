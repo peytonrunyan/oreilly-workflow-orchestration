{
 "cells": [
  {
   "cell_type": "markdown",
   "metadata": {},
   "source": [
    "* Presentation: Introductions and Welcome\n",
    "* Presentation: Overview of Materials"
   ]
  },
  {
   "cell_type": "markdown",
   "metadata": {},
   "source": [
    "# Welcome 👋\n",
    "Hi! Welcome! Happy Engineering! \n",
    "\n",
    "We're Nate and Kalise and here to talk about Workflow Orchestration and how to get started!\n",
    "\n",
    "Nate is ...\n",
    "\n",
    "Kalise is ... "
   ]
  },
  {
   "cell_type": "markdown",
   "metadata": {},
   "source": [
    "# What readers will learn"
   ]
  },
  {
   "cell_type": "markdown",
   "metadata": {},
   "source": [
    "# Overview of Materials\n"
   ]
  }
 ],
 "metadata": {
  "language_info": {
   "name": "python"
  },
  "orig_nbformat": 4
 },
 "nbformat": 4,
 "nbformat_minor": 2
}
