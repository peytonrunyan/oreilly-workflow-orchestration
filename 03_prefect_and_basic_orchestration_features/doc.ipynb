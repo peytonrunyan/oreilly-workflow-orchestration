{
 "cells": [
  {
   "cell_type": "markdown",
   "metadata": {},
   "source": [
    "# Presentation: \n",
    "* Retries\n",
    "* Parameters - Validation\n",
    "* Deployments - including Schedulling\n",
    "* Task Library - GONE\n",
    "* Secrets - GONE\n",
    "* Async execution\n",
    "* Exercise: Putting Together a Simple Data Pipeline\n",
    "* Q&A"
   ]
  },
  {
   "cell_type": "markdown",
   "metadata": {},
   "source": [
    "### Retries\n",
    "Prefect tasks can automatically retry on failure when you enable parameters `retries` and `retry_delay_seconds` on a @task"
   ]
  },
  {
   "cell_type": "markdown",
   "metadata": {},
   "source": [
    "### Deployments"
   ]
  },
  {
   "cell_type": "markdown",
   "metadata": {},
   "source": [
    "### Async"
   ]
  },
  {
   "cell_type": "code",
   "execution_count": null,
   "metadata": {},
   "outputs": [],
   "source": [
    "from prefect import task, flow\n",
    "from typing import List\n",
    "import httpx\n",
    "\n",
    "@task(retries=3)\n",
    "def get_stars(repo: str):\n",
    "    url = f\"https://api.github.com/repos/{repo}\"\n",
    "    count = httpx.get(url).json()[\"stargazers_count\"]\n",
    "    print(f\"{repo} has {count} stars!\")\n",
    "\n",
    "\n",
    "@flow(name=\"Github stars\")\n",
    "def github_stars(repos: List[str]):\n",
    "    for repo in repos:\n",
    "        get_stars(repo)\n",
    "\n",
    "# run the flow!\n",
    "github_stars([\"PrefectHQ/Prefect\", \"PrefectHQ/miter-design\"])"
   ]
  },
  {
   "cell_type": "code",
   "execution_count": null,
   "metadata": {},
   "outputs": [],
   "source": [
    "import prefect import task, flow\n",
    "import requests\n",
    "import re\n",
    "from bs4 import BeautifulSoup\n",
    "\n",
    "nikeURL = \"https://www.nike.com/t/air-max-270-womens-shoes-Pgb94t/AH6789-601\"\n",
    "\n",
    "@task\n",
    "def find_nike_price():\n",
    "    k = requests.get(nikeURL).text\n",
    "    soup = BeautifulSoup(k,'html.parser')\n",
    "    price_string = soup.find('div', {\"class\":\"product-price\"}).text\n",
    "    price_string = price_string.replace(' ','')\n",
    "    price = int(re.search('[0-9]+',price_string).group(0))\n",
    "    return price\n",
    "\n",
    "@task\n",
    "def compare_price(price, buy_price):\n",
    "    if price <= buy_price:\n",
    "        return True\n",
    "    return False\n",
    "\n",
    "\n",
    "# Notification Task sends message to Cloud once authenticated with a webhook\n",
    "buy_notification, dont_buy_notification = SlackTask(\n",
    "    message=\"BUY the nikes!\",\n",
    "    webhook_secret=\"SALES_DEMO_NOTIFICATIONS_SLACK_URL\",\n",
    "), SlackTask(\n",
    "    message=\"DONT BUY the nikes!\",\n",
    "    webhook_secret=\"SALES_DEMO_NOTIFICATIONS_SLACK_URL\",\n",
    ")\n",
    "\n",
    "\n",
    "@flow()\n",
    "def nike_flow():\n",
    "    price = find_nike_price()\n",
    "    buy = compare_price(price.result(), 120)\n",
    "    with case(buy, True):\n",
    "        buy_notification()\n",
    "    with case(buy, False):\n",
    "        dont_buy_notification()\n",
    "\n",
    "flow.register(project_name='AE Demos')"
   ]
  }
 ],
 "metadata": {
  "language_info": {
   "name": "python"
  },
  "orig_nbformat": 4
 },
 "nbformat": 4,
 "nbformat_minor": 2
}
