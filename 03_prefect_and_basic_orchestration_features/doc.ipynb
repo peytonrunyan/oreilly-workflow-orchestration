{
 "cells": [
  {
   "cell_type": "markdown",
   "metadata": {},
   "source": [
    "# Presentation: \n",
    "* Retries\n",
    "* Parameters - Validation\n",
    "* Deployments - including Schedulling\n",
    "* Task Library - GONE\n",
    "* Secrets - GONE\n",
    "* Async execution\n",
    "* Exercise: Putting Together a Simple Data Pipeline\n",
    "* Q&A"
   ]
  },
  {
   "cell_type": "markdown",
   "metadata": {},
   "source": [
    "### Deployments"
   ]
  },
  {
   "cell_type": "markdown",
   "metadata": {},
   "source": [
    "### Async"
   ]
  },
  {
   "cell_type": "code",
   "execution_count": null,
   "metadata": {},
   "outputs": [],
   "source": [
    "from prefect import flow, task\n",
    "from typing import List\n",
    "import httpx\n",
    "import asyncio\n",
    "\n",
    "@task(retries=3)\n",
    "async def get_stars(repo: str):\n",
    "    async with httpx.AsyncClient() as client:\n",
    "        response = await client.get(f\"https://api.github.com/repos/{repo}\")\n",
    "    count = response.json()[\"stargazers_count\"]\n",
    "    print(f\"{repo} has {count} stars!\")\n",
    "\n",
    "@flow(name=\"Github Stars\")\n",
    "async def github_stars(repos: List[str]):\n",
    "    await asyncio.gather(*[get_stars(repo) for repo in repos])\n",
    "\n",
    "# run the flow!\n",
    "asyncio.run(github_stars([\"PrefectHQ/Prefect\", \"PrefectHQ/miter-design\"]))"
   ]
  }
 ],
 "metadata": {
  "language_info": {
   "name": "python"
  },
  "orig_nbformat": 4
 },
 "nbformat": 4,
 "nbformat_minor": 2
}
